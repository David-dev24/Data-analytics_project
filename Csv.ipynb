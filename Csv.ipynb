{
 "cells": [
  {
   "cell_type": "code",
   "execution_count": 16,
   "id": "4d9ebb80-991d-4539-8511-47fb5165244f",
   "metadata": {},
   "outputs": [],
   "source": [
    "import numpy as np\n",
    "import pandas as pd \n",
    "import matplotlib.pyplot as plt\n",
    "import seaborn as sb"
   ]
  },
  {
   "cell_type": "code",
   "execution_count": 19,
   "id": "62fd0564-9cca-47d2-b9c3-7c6401dd667b",
   "metadata": {},
   "outputs": [],
   "source": [
    "df= pd.read_csv(\"all_recs.csv\",encoding =\"unicode_escape\")"
   ]
  },
  {
   "cell_type": "code",
   "execution_count": 21,
   "id": "6ee25a9c-6ce3-4b73-95b1-39de06172ef0",
   "metadata": {},
   "outputs": [
    {
     "data": {
      "text/html": [
       "<div>\n",
       "<style scoped>\n",
       "    .dataframe tbody tr th:only-of-type {\n",
       "        vertical-align: middle;\n",
       "    }\n",
       "\n",
       "    .dataframe tbody tr th {\n",
       "        vertical-align: top;\n",
       "    }\n",
       "\n",
       "    .dataframe thead th {\n",
       "        text-align: right;\n",
       "    }\n",
       "</style>\n",
       "<table border=\"1\" class=\"dataframe\">\n",
       "  <thead>\n",
       "    <tr style=\"text-align: right;\">\n",
       "      <th></th>\n",
       "      <th>Date</th>\n",
       "      <th>Location</th>\n",
       "      <th>Victim</th>\n",
       "      <th>Industry</th>\n",
       "      <th>Actor Location</th>\n",
       "      <th>Actor</th>\n",
       "      <th>Motive</th>\n",
       "      <th>Type</th>\n",
       "      <th>Sub-Type</th>\n",
       "      <th>Year</th>\n",
       "    </tr>\n",
       "  </thead>\n",
       "  <tbody>\n",
       "    <tr>\n",
       "      <th>0</th>\n",
       "      <td>31/12/2022</td>\n",
       "      <td>Iran (Islamic Republic of)</td>\n",
       "      <td>State-run Iranian Websites</td>\n",
       "      <td>Public Administration</td>\n",
       "      <td>Undetermined</td>\n",
       "      <td>Undetermined</td>\n",
       "      <td>Protest</td>\n",
       "      <td>Disruptive</td>\n",
       "      <td>External Denial of Services</td>\n",
       "      <td>2022</td>\n",
       "    </tr>\n",
       "    <tr>\n",
       "      <th>1</th>\n",
       "      <td>31/12/2022</td>\n",
       "      <td>United States of America</td>\n",
       "      <td>Housing Authority of the City of Los Angeles (...</td>\n",
       "      <td>Public Administration</td>\n",
       "      <td>Undetermined</td>\n",
       "      <td>LockBit 3.0</td>\n",
       "      <td>Financial</td>\n",
       "      <td>Exploitative</td>\n",
       "      <td>Undetermined</td>\n",
       "      <td>2022</td>\n",
       "    </tr>\n",
       "    <tr>\n",
       "      <th>2</th>\n",
       "      <td>30/12/2022</td>\n",
       "      <td>Poland</td>\n",
       "      <td>Polish Parliament</td>\n",
       "      <td>Public Administration</td>\n",
       "      <td>Russian Federation</td>\n",
       "      <td>NoName057(16)</td>\n",
       "      <td>Protest</td>\n",
       "      <td>Disruptive</td>\n",
       "      <td>External Denial of Services</td>\n",
       "      <td>2022</td>\n",
       "    </tr>\n",
       "    <tr>\n",
       "      <th>3</th>\n",
       "      <td>30/12/2022</td>\n",
       "      <td>United States of America</td>\n",
       "      <td>CentraState Healthcare System</td>\n",
       "      <td>Health Care and Social Assistance</td>\n",
       "      <td>Undetermined</td>\n",
       "      <td>Undetermined</td>\n",
       "      <td>Undetermined</td>\n",
       "      <td>Disruptive</td>\n",
       "      <td>Undetermined</td>\n",
       "      <td>2022</td>\n",
       "    </tr>\n",
       "    <tr>\n",
       "      <th>4</th>\n",
       "      <td>30/12/2022</td>\n",
       "      <td>Iran (Islamic Republic of)</td>\n",
       "      <td>Iran Airlines</td>\n",
       "      <td>Transportation and Warehousing</td>\n",
       "      <td>Ukraine</td>\n",
       "      <td>rootkitsecurity</td>\n",
       "      <td>Protest</td>\n",
       "      <td>Disruptive</td>\n",
       "      <td>External Denial of Services</td>\n",
       "      <td>2022</td>\n",
       "    </tr>\n",
       "  </tbody>\n",
       "</table>\n",
       "</div>"
      ],
      "text/plain": [
       "        Date                     Location  \\\n",
       "0  31/12/2022  Iran (Islamic Republic of)   \n",
       "1  31/12/2022    United States of America   \n",
       "2  30/12/2022                      Poland   \n",
       "3  30/12/2022    United States of America   \n",
       "4  30/12/2022  Iran (Islamic Republic of)   \n",
       "\n",
       "                                              Victim  \\\n",
       "0                         State-run Iranian Websites   \n",
       "1  Housing Authority of the City of Los Angeles (...   \n",
       "2                                  Polish Parliament   \n",
       "3                      CentraState Healthcare System   \n",
       "4                                      Iran Airlines   \n",
       "\n",
       "                            Industry      Actor Location            Actor  \\\n",
       "0              Public Administration        Undetermined     Undetermined   \n",
       "1              Public Administration        Undetermined      LockBit 3.0   \n",
       "2              Public Administration  Russian Federation    NoName057(16)   \n",
       "3  Health Care and Social Assistance        Undetermined     Undetermined   \n",
       "4     Transportation and Warehousing             Ukraine  rootkitsecurity   \n",
       "\n",
       "         Motive          Type                     Sub-Type  Year  \n",
       "0       Protest    Disruptive  External Denial of Services  2022  \n",
       "1     Financial  Exploitative                 Undetermined  2022  \n",
       "2       Protest    Disruptive  External Denial of Services  2022  \n",
       "3  Undetermined    Disruptive                 Undetermined  2022  \n",
       "4       Protest    Disruptive  External Denial of Services  2022  "
      ]
     },
     "execution_count": 21,
     "metadata": {},
     "output_type": "execute_result"
    }
   ],
   "source": [
    "df.head()"
   ]
  },
  {
   "cell_type": "code",
   "execution_count": 23,
   "id": "d74a8701-790b-4ac9-ba26-597e13ea3148",
   "metadata": {},
   "outputs": [],
   "source": [
    "year_order =df['Year'].value_counts().index\n",
    "location_order =df['Location'].value_counts().index\n",
    "motive_order = df['Motive'].value_counts().index\n",
    "industry_order = df['Industry'].value_counts().index"
   ]
  },
  {
   "cell_type": "code",
   "execution_count": 24,
   "id": "8cc0b298-8e9d-41ea-9a0c-9e289f3e1bc7",
   "metadata": {},
   "outputs": [
    {
     "data": {
      "text/html": [
       "<div>\n",
       "<style scoped>\n",
       "    .dataframe tbody tr th:only-of-type {\n",
       "        vertical-align: middle;\n",
       "    }\n",
       "\n",
       "    .dataframe tbody tr th {\n",
       "        vertical-align: top;\n",
       "    }\n",
       "\n",
       "    .dataframe thead th {\n",
       "        text-align: right;\n",
       "    }\n",
       "</style>\n",
       "<table border=\"1\" class=\"dataframe\">\n",
       "  <thead>\n",
       "    <tr style=\"text-align: right;\">\n",
       "      <th></th>\n",
       "      <th>Date</th>\n",
       "      <th>Location</th>\n",
       "      <th>Victim</th>\n",
       "      <th>Industry</th>\n",
       "      <th>Actor Location</th>\n",
       "      <th>Actor</th>\n",
       "      <th>Motive</th>\n",
       "      <th>Type</th>\n",
       "      <th>Sub-Type</th>\n",
       "      <th>Year</th>\n",
       "    </tr>\n",
       "  </thead>\n",
       "  <tbody>\n",
       "    <tr>\n",
       "      <th>count</th>\n",
       "      <td>10419</td>\n",
       "      <td>10419</td>\n",
       "      <td>10419</td>\n",
       "      <td>10419</td>\n",
       "      <td>10416</td>\n",
       "      <td>10419</td>\n",
       "      <td>10419</td>\n",
       "      <td>10419</td>\n",
       "      <td>10415</td>\n",
       "      <td>10420</td>\n",
       "    </tr>\n",
       "    <tr>\n",
       "      <th>unique</th>\n",
       "      <td>2767</td>\n",
       "      <td>155</td>\n",
       "      <td>9519</td>\n",
       "      <td>21</td>\n",
       "      <td>76</td>\n",
       "      <td>956</td>\n",
       "      <td>10</td>\n",
       "      <td>5</td>\n",
       "      <td>77</td>\n",
       "      <td>11</td>\n",
       "    </tr>\n",
       "    <tr>\n",
       "      <th>top</th>\n",
       "      <td>27/06/2017</td>\n",
       "      <td>United States of America</td>\n",
       "      <td>Undetermined</td>\n",
       "      <td>Public Administration</td>\n",
       "      <td>Undetermined</td>\n",
       "      <td>Undetermined</td>\n",
       "      <td>Financial</td>\n",
       "      <td>Exploitive</td>\n",
       "      <td>Exploitation of Application Server</td>\n",
       "      <td>2022</td>\n",
       "    </tr>\n",
       "    <tr>\n",
       "      <th>freq</th>\n",
       "      <td>78</td>\n",
       "      <td>5110</td>\n",
       "      <td>14</td>\n",
       "      <td>2021</td>\n",
       "      <td>8269</td>\n",
       "      <td>6472</td>\n",
       "      <td>5781</td>\n",
       "      <td>5397</td>\n",
       "      <td>3616</td>\n",
       "      <td>1918</td>\n",
       "    </tr>\n",
       "  </tbody>\n",
       "</table>\n",
       "</div>"
      ],
      "text/plain": [
       "             Date                   Location        Victim  \\\n",
       "count        10419                     10419         10419   \n",
       "unique        2767                       155          9519   \n",
       "top     27/06/2017  United States of America  Undetermined   \n",
       "freq            78                      5110            14   \n",
       "\n",
       "                     Industry Actor Location         Actor     Motive  \\\n",
       "count                   10419          10416         10419      10419   \n",
       "unique                     21             76           956         10   \n",
       "top     Public Administration   Undetermined  Undetermined  Financial   \n",
       "freq                     2021           8269          6472       5781   \n",
       "\n",
       "              Type                            Sub-Type   Year  \n",
       "count        10419                               10415  10420  \n",
       "unique           5                                  77     11  \n",
       "top     Exploitive  Exploitation of Application Server   2022  \n",
       "freq          5397                                3616   1918  "
      ]
     },
     "execution_count": 24,
     "metadata": {},
     "output_type": "execute_result"
    }
   ],
   "source": [
    "df.describe()"
   ]
  },
  {
   "cell_type": "code",
   "execution_count": 25,
   "id": "60497dc0-56a7-4b1c-bfb4-db215b03e510",
   "metadata": {},
   "outputs": [
    {
     "name": "stdout",
     "output_type": "stream",
     "text": [
      "<class 'pandas.core.frame.DataFrame'>\n",
      "RangeIndex: 10420 entries, 0 to 10419\n",
      "Data columns (total 10 columns):\n",
      " #   Column          Non-Null Count  Dtype \n",
      "---  ------          --------------  ----- \n",
      " 0   Date            10419 non-null  object\n",
      " 1   Location        10419 non-null  object\n",
      " 2   Victim          10419 non-null  object\n",
      " 3   Industry        10419 non-null  object\n",
      " 4   Actor Location  10416 non-null  object\n",
      " 5   Actor           10419 non-null  object\n",
      " 6   Motive          10419 non-null  object\n",
      " 7   Type            10419 non-null  object\n",
      " 8   Sub-Type        10415 non-null  object\n",
      " 9   Year            10420 non-null  object\n",
      "dtypes: object(10)\n",
      "memory usage: 814.2+ KB\n"
     ]
    }
   ],
   "source": [
    "df.info()"
   ]
  },
  {
   "cell_type": "code",
   "execution_count": 27,
   "id": "4c1ef3c9-6114-42e2-aad2-f1c7154dec19",
   "metadata": {},
   "outputs": [
    {
     "data": {
      "text/plain": [
       "(array([   0.,  250.,  500.,  750., 1000., 1250., 1500., 1750., 2000.,\n",
       "        2250.]),\n",
       " [Text(0.0, 0, '0'),\n",
       "  Text(250.0, 0, '250'),\n",
       "  Text(500.0, 0, '500'),\n",
       "  Text(750.0, 0, '750'),\n",
       "  Text(1000.0, 0, '1000'),\n",
       "  Text(1250.0, 0, '1250'),\n",
       "  Text(1500.0, 0, '1500'),\n",
       "  Text(1750.0, 0, '1750'),\n",
       "  Text(2000.0, 0, '2000'),\n",
       "  Text(2250.0, 0, '2250')])"
      ]
     },
     "execution_count": 27,
     "metadata": {},
     "output_type": "execute_result"
    },
    {
     "data": {
      "image/png": "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
      "text/plain": [
       "<Figure size 1000x600 with 1 Axes>"
      ]
     },
     "metadata": {},
     "output_type": "display_data"
    }
   ],
   "source": [
    "plt.figure(figsize=(10,6))\n",
    "plt.title(\"Attack by Industry\")\n",
    "sb.countplot(data=df,y='Industry',order=industry_order)\n",
    "plt.xticks(rotation=15);"
   ]
  }
 ],
 "metadata": {
  "kernelspec": {
   "display_name": "Python 3 (ipykernel)",
   "language": "python",
   "name": "python3"
  },
  "language_info": {
   "codemirror_mode": {
    "name": "ipython",
    "version": 3
   },
   "file_extension": ".py",
   "mimetype": "text/x-python",
   "name": "python",
   "nbconvert_exporter": "python",
   "pygments_lexer": "ipython3",
   "version": "3.12.0"
  }
 },
 "nbformat": 4,
 "nbformat_minor": 5
   }
  }
 ],
 "metadata": {
  "kernelspec": {
   "display_name": "Python 3 (ipykernel)",
   "language": "python",
   "name": "python3"
  },
  "language_info": {
   "codemirror_mode": {
    "name": "ipython",
    "version": 3
   },
   "file_extension": ".py",
   "mimetype": "text/x-python",
   "name": "python",
   "nbconvert_exporter": "python",
   "pygments_lexer": "ipython3",
   "version": "3.12.0"
  }
 },
 "nbformat": 4,
 "nbformat_minor": 5
}
