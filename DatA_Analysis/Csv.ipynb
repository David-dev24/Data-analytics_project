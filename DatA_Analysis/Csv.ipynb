{
 "cells": [
  {
   "cell_type": "code",
   "execution_count": 16,
   "id": "4d9ebb80-991d-4539-8511-47fb5165244f",
   "metadata": {},
   "outputs": [],
   "source": [
    "import numpy as np\n",
    "import pandas as pd \n",
    "import matplotlib.pyplot as plt\n",
    "import seaborn as sb"
   ]
  },
  {
   "cell_type": "code",
   "execution_count": 19,
   "id": "62fd0564-9cca-47d2-b9c3-7c6401dd667b",
   "metadata": {},
   "outputs": [],
   "source": [
    "df= pd.read_csv(\"all_recs.csv\",encoding =\"unicode_escape\")"
   ]
  },
  {
   "cell_type": "code",
   "execution_count": 21,
   "id": "6ee25a9c-6ce3-4b73-95b1-39de06172ef0",
   "metadata": {},
   "outputs": [
    {
     "data": {
      "text/html": [
       "<div>\n",
       "<style scoped>\n",
       "    .dataframe tbody tr th:only-of-type {\n",
       "        vertical-align: middle;\n",
       "    }\n",
       "\n",
       "    .dataframe tbody tr th {\n",
       "        vertical-align: top;\n",
       "    }\n",
       "\n",
       "    .dataframe thead th {\n",
       "        text-align: right;\n",
       "    }\n",
       "</style>\n",
       "<table border=\"1\" class=\"dataframe\">\n",
       "  <thead>\n",
       "    <tr style=\"text-align: right;\">\n",
       "      <th></th>\n",
       "      <th>Date</th>\n",
       "      <th>Location</th>\n",
       "      <th>Victim</th>\n",
       "      <th>Industry</th>\n",
       "      <th>Actor Location</th>\n",
       "      <th>Actor</th>\n",
       "      <th>Motive</th>\n",
       "      <th>Type</th>\n",
       "      <th>Sub-Type</th>\n",
       "      <th>Year</th>\n",
       "    </tr>\n",
       "  </thead>\n",
       "  <tbody>\n",
       "    <tr>\n",
       "      <th>0</th>\n",
       "      <td>31/12/2022</td>\n",
       "      <td>Iran (Islamic Republic of)</td>\n",
       "      <td>State-run Iranian Websites</td>\n",
       "      <td>Public Administration</td>\n",
       "      <td>Undetermined</td>\n",
       "      <td>Undetermined</td>\n",
       "      <td>Protest</td>\n",
       "      <td>Disruptive</td>\n",
       "      <td>External Denial of Services</td>\n",
       "      <td>2022</td>\n",
       "    </tr>\n",
       "    <tr>\n",
       "      <th>1</th>\n",
       "      <td>31/12/2022</td>\n",
       "      <td>United States of America</td>\n",
       "      <td>Housing Authority of the City of Los Angeles (...</td>\n",
       "      <td>Public Administration</td>\n",
       "      <td>Undetermined</td>\n",
       "      <td>LockBit 3.0</td>\n",
       "      <td>Financial</td>\n",
       "      <td>Exploitative</td>\n",
       "      <td>Undetermined</td>\n",
       "      <td>2022</td>\n",
       "    </tr>\n",
       "    <tr>\n",
       "      <th>2</th>\n",
       "      <td>30/12/2022</td>\n",
       "      <td>Poland</td>\n",
       "      <td>Polish Parliament</td>\n",
       "      <td>Public Administration</td>\n",
       "      <td>Russian Federation</td>\n",
       "      <td>NoName057(16)</td>\n",
       "      <td>Protest</td>\n",
       "      <td>Disruptive</td>\n",
       "      <td>External Denial of Services</td>\n",
       "      <td>2022</td>\n",
       "    </tr>\n",
       "    <tr>\n",
       "      <th>3</th>\n",
       "      <td>30/12/2022</td>\n",
       "      <td>United States of America</td>\n",
       "      <td>CentraState Healthcare System</td>\n",
       "      <td>Health Care and Social Assistance</td>\n",
       "      <td>Undetermined</td>\n",
       "      <td>Undetermined</td>\n",
       "      <td>Undetermined</td>\n",
       "      <td>Disruptive</td>\n",
       "      <td>Undetermined</td>\n",
       "      <td>2022</td>\n",
       "    </tr>\n",
       "    <tr>\n",
       "      <th>4</th>\n",
       "      <td>30/12/2022</td>\n",
       "      <td>Iran (Islamic Republic of)</td>\n",
       "      <td>Iran Airlines</td>\n",
       "      <td>Transportation and Warehousing</td>\n",
       "      <td>Ukraine</td>\n",
       "      <td>rootkitsecurity</td>\n",
       "      <td>Protest</td>\n",
       "      <td>Disruptive</td>\n",
       "      <td>External Denial of Services</td>\n",
       "      <td>2022</td>\n",
       "    </tr>\n",
       "  </tbody>\n",
       "</table>\n",
       "</div>"
      ],
      "text/plain": [
       "        Date                     Location  \\\n",
       "0  31/12/2022  Iran (Islamic Republic of)   \n",
       "1  31/12/2022    United States of America   \n",
       "2  30/12/2022                      Poland   \n",
       "3  30/12/2022    United States of America   \n",
       "4  30/12/2022  Iran (Islamic Republic of)   \n",
       "\n",
       "                                              Victim  \\\n",
       "0                         State-run Iranian Websites   \n",
       "1  Housing Authority of the City of Los Angeles (...   \n",
       "2                                  Polish Parliament   \n",
       "3                      CentraState Healthcare System   \n",
       "4                                      Iran Airlines   \n",
       "\n",
       "                            Industry      Actor Location            Actor  \\\n",
       "0              Public Administration        Undetermined     Undetermined   \n",
       "1              Public Administration        Undetermined      LockBit 3.0   \n",
       "2              Public Administration  Russian Federation    NoName057(16)   \n",
       "3  Health Care and Social Assistance        Undetermined     Undetermined   \n",
       "4     Transportation and Warehousing             Ukraine  rootkitsecurity   \n",
       "\n",
       "         Motive          Type                     Sub-Type  Year  \n",
       "0       Protest    Disruptive  External Denial of Services  2022  \n",
       "1     Financial  Exploitative                 Undetermined  2022  \n",
       "2       Protest    Disruptive  External Denial of Services  2022  \n",
       "3  Undetermined    Disruptive                 Undetermined  2022  \n",
       "4       Protest    Disruptive  External Denial of Services  2022  "
      ]
     },
     "execution_count": 21,
     "metadata": {},
     "output_type": "execute_result"
    }
   ],
   "source": [
    "df.head()"
   ]
  },
  {
   "cell_type": "code",
   "execution_count": 23,
   "id": "d74a8701-790b-4ac9-ba26-597e13ea3148",
   "metadata": {},
   "outputs": [],
   "source": [
    "year_order =df['Year'].value_counts().index\n",
    "location_order =df['Location'].value_counts().index\n",
    "motive_order = df['Motive'].value_counts().index\n",
    "industry_order = df['Industry'].value_counts().index"
   ]
  },
  {
   "cell_type": "code",
   "execution_count": 24,
   "id": "8cc0b298-8e9d-41ea-9a0c-9e289f3e1bc7",
   "metadata": {},
   "outputs": [
    {
     "data": {
      "text/html": [
       "<div>\n",
       "<style scoped>\n",
       "    .dataframe tbody tr th:only-of-type {\n",
       "        vertical-align: middle;\n",
       "    }\n",
       "\n",
       "    .dataframe tbody tr th {\n",
       "        vertical-align: top;\n",
       "    }\n",
       "\n",
       "    .dataframe thead th {\n",
       "        text-align: right;\n",
       "    }\n",
       "</style>\n",
       "<table border=\"1\" class=\"dataframe\">\n",
       "  <thead>\n",
       "    <tr style=\"text-align: right;\">\n",
       "      <th></th>\n",
       "      <th>Date</th>\n",
       "      <th>Location</th>\n",
       "      <th>Victim</th>\n",
       "      <th>Industry</th>\n",
       "      <th>Actor Location</th>\n",
       "      <th>Actor</th>\n",
       "      <th>Motive</th>\n",
       "      <th>Type</th>\n",
       "      <th>Sub-Type</th>\n",
       "      <th>Year</th>\n",
       "    </tr>\n",
       "  </thead>\n",
       "  <tbody>\n",
       "    <tr>\n",
       "      <th>count</th>\n",
       "      <td>10419</td>\n",
       "      <td>10419</td>\n",
       "      <td>10419</td>\n",
       "      <td>10419</td>\n",
       "      <td>10416</td>\n",
       "      <td>10419</td>\n",
       "      <td>10419</td>\n",
       "      <td>10419</td>\n",
       "      <td>10415</td>\n",
       "      <td>10420</td>\n",
       "    </tr>\n",
       "    <tr>\n",
       "      <th>unique</th>\n",
       "      <td>2767</td>\n",
       "      <td>155</td>\n",
       "      <td>9519</td>\n",
       "      <td>21</td>\n",
       "      <td>76</td>\n",
       "      <td>956</td>\n",
       "      <td>10</td>\n",
       "      <td>5</td>\n",
       "      <td>77</td>\n",
       "      <td>11</td>\n",
       "    </tr>\n",
       "    <tr>\n",
       "      <th>top</th>\n",
       "      <td>27/06/2017</td>\n",
       "      <td>United States of America</td>\n",
       "      <td>Undetermined</td>\n",
       "      <td>Public Administration</td>\n",
       "      <td>Undetermined</td>\n",
       "      <td>Undetermined</td>\n",
       "      <td>Financial</td>\n",
       "      <td>Exploitive</td>\n",
       "      <td>Exploitation of Application Server</td>\n",
       "      <td>2022</td>\n",
       "    </tr>\n",
       "    <tr>\n",
       "      <th>freq</th>\n",
       "      <td>78</td>\n",
       "      <td>5110</td>\n",
       "      <td>14</td>\n",
       "      <td>2021</td>\n",
       "      <td>8269</td>\n",
       "      <td>6472</td>\n",
       "      <td>5781</td>\n",
       "      <td>5397</td>\n",
       "      <td>3616</td>\n",
       "      <td>1918</td>\n",
       "    </tr>\n",
       "  </tbody>\n",
       "</table>\n",
       "</div>"
      ],
      "text/plain": [
       "             Date                   Location        Victim  \\\n",
       "count        10419                     10419         10419   \n",
       "unique        2767                       155          9519   \n",
       "top     27/06/2017  United States of America  Undetermined   \n",
       "freq            78                      5110            14   \n",
       "\n",
       "                     Industry Actor Location         Actor     Motive  \\\n",
       "count                   10419          10416         10419      10419   \n",
       "unique                     21             76           956         10   \n",
       "top     Public Administration   Undetermined  Undetermined  Financial   \n",
       "freq                     2021           8269          6472       5781   \n",
       "\n",
       "              Type                            Sub-Type   Year  \n",
       "count        10419                               10415  10420  \n",
       "unique           5                                  77     11  \n",
       "top     Exploitive  Exploitation of Application Server   2022  \n",
       "freq          5397                                3616   1918  "
      ]
     },
     "execution_count": 24,
     "metadata": {},
     "output_type": "execute_result"
    }
   ],
   "source": [
    "df.describe()"
   ]
  },
  {
   "cell_type": "code",
   "execution_count": 25,
   "id": "60497dc0-56a7-4b1c-bfb4-db215b03e510",
   "metadata": {},
   "outputs": [
    {
     "name": "stdout",
     "output_type": "stream",
     "text": [
      "<class 'pandas.core.frame.DataFrame'>\n",
      "RangeIndex: 10420 entries, 0 to 10419\n",
      "Data columns (total 10 columns):\n",
      " #   Column          Non-Null Count  Dtype \n",
      "---  ------          --------------  ----- \n",
      " 0   Date            10419 non-null  object\n",
      " 1   Location        10419 non-null  object\n",
      " 2   Victim          10419 non-null  object\n",
      " 3   Industry        10419 non-null  object\n",
      " 4   Actor Location  10416 non-null  object\n",
      " 5   Actor           10419 non-null  object\n",
      " 6   Motive          10419 non-null  object\n",
      " 7   Type            10419 non-null  object\n",
      " 8   Sub-Type        10415 non-null  object\n",
      " 9   Year            10420 non-null  object\n",
      "dtypes: object(10)\n",
      "memory usage: 814.2+ KB\n"
     ]
    }
   ],
   "source": [
    "df.info()"
   ]
  },
  {
   "cell_type": "code",
   "execution_count": 27,
   "id": "4c1ef3c9-6114-42e2-aad2-f1c7154dec19",
   "metadata": {},
   "outputs": [
    {
     "data": {
      "text/plain": [
       "(array([   0.,  250.,  500.,  750., 1000., 1250., 1500., 1750., 2000.,\n",
       "        2250.]),\n",
       " [Text(0.0, 0, '0'),\n",
       "  Text(250.0, 0, '250'),\n",
       "  Text(500.0, 0, '500'),\n",
       "  Text(750.0, 0, '750'),\n",
       "  Text(1000.0, 0, '1000'),\n",
       "  Text(1250.0, 0, '1250'),\n",
       "  Text(1500.0, 0, '1500'),\n",
       "  Text(1750.0, 0, '1750'),\n",
       "  Text(2000.0, 0, '2000'),\n",
       "  Text(2250.0, 0, '2250')])"
      ]
     },
     "execution_count": 27,
     "metadata": {},
     "output_type": "execute_result"
    },
    {
     "data": {
      "image/png": "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
      "text/plain": [
       "<Figure size 1000x600 with 1 Axes>"
      ]
     },
     "metadata": {},
     "output_type": "display_data"
    }
   ],
   "source": [
    "plt.figure(figsize=(10,6))\n",
    "plt.title(\"Attack by Industry\")\n",
    "sb.countplot(data=df,y='Industry',order=industry_order)\n",
    "plt.xticks(rotation=15);"
   ]
  }
   {
   "cell_type": "code",
   "execution_count": 29,
   "id": "225c871c-7509-4109-82f7-20e44e085fe8",
   "metadata": {},
   "outputs": [
    {
     "data": {
      "image/png": "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",
      "text/plain": [
       "<Figure size 1000x600 with 1 Axes>"
      ]
     },
     "metadata": {},
     "output_type": "display_data"
    }
   ],
   "source": [
    "plt.figure(figsize=(10,6))\n",
    "plt.title(\"Attack by Industry\")\n",
    "sb.countplot(data=df,y='Industry',order=industry_order)\n",
    "plt.xticks(rotation=15);"
   ]
  }
 ],
 "metadata": {
  "kernelspec": {
   "display_name": "Python 3 (ipykernel)",
   "language": "python",
   "name": "python3"
  },
  "language_info": {
   "codemirror_mode": {
    "name": "ipython",
    "version": 3
   },
   "file_extension": ".py",
   "mimetype": "text/x-python",
   "name": "python",
   "nbconvert_exporter": "python",
   "pygments_lexer": "ipython3",
   "version": "3.12.0"
  }
 },
 "nbformat": 4,
 "nbformat_minor": 5
}
